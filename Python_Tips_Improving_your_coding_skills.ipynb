{
  "nbformat": 4,
  "nbformat_minor": 0,
  "metadata": {
    "colab": {
      "name": "Python Tips - Improving your coding skills",
      "provenance": [],
      "collapsed_sections": [],
      "authorship_tag": "ABX9TyOchF5X1EKLLV+rnQnKifVn",
      "include_colab_link": true
    },
    "kernelspec": {
      "name": "python3",
      "display_name": "Python 3"
    },
    "language_info": {
      "name": "python"
    }
  },
  "cells": [
    {
      "cell_type": "markdown",
      "metadata": {
        "id": "view-in-github",
        "colab_type": "text"
      },
      "source": [
        "<a href=\"https://colab.research.google.com/github/leopedroso1/Python-Best-Practices/blob/main/Python_Tips_Improving_your_coding_skills.ipynb\" target=\"_parent\"><img src=\"https://colab.research.google.com/assets/colab-badge.svg\" alt=\"Open In Colab\"/></a>"
      ]
    },
    {
      "cell_type": "markdown",
      "metadata": {
        "id": "m2ntF0vRvp3_"
      },
      "source": [
        "### Saving up memory with Generators"
      ]
    },
    {
      "cell_type": "code",
      "metadata": {
        "colab": {
          "base_uri": "https://localhost:8080/"
        },
        "id": "R0vskcFcsWKk",
        "outputId": "8da962c7-ab10-4a1c-8577-f435edb42487"
      },
      "source": [
        "# Saving up memory\n",
        "import sys\n",
        "\n",
        "# 1. List with n amount of items\n",
        "my_list = [i for i in range(100000)]\n",
        "\n",
        "print(sum(my_list))\n",
        "print(sys.getsizeof(my_list), \"bytes\")\n",
        "\n",
        "\n",
        "# 2. Generators with n amount of items - Lazily evaluates and save the memory :)\n",
        "my_gen = (i for i in range(100000))\n",
        "\n",
        "print(sum(my_gen))\n",
        "print(sys.getsizeof(my_gen), \"bytes\")"
      ],
      "execution_count": null,
      "outputs": [
        {
          "output_type": "stream",
          "name": "stdout",
          "text": [
            "4999950000\n",
            "824472 bytes\n",
            "4999950000\n",
            "128 bytes\n"
          ]
        }
      ]
    },
    {
      "cell_type": "markdown",
      "metadata": {
        "id": "FrWcRnExviT4"
      },
      "source": [
        "### Counter the number of unique items in a list with collections"
      ]
    },
    {
      "cell_type": "code",
      "metadata": {
        "colab": {
          "base_uri": "https://localhost:8080/"
        },
        "id": "PZReNlalvQ-A",
        "outputId": "6fc5b480-b195-41f9-be78-b0a8a7ddf922"
      },
      "source": [
        "from collections import Counter\n",
        "\n",
        "my_list = [1,2,2,3,4,4,4,4,4,4,5,5,5,5,5,6,6,6]\n",
        "\n",
        "counter = Counter(my_list)\n",
        "\n",
        "print(counter) # ---------> Return a counter object with a dictionary\n",
        "\n",
        "# Get the 1st and 2nd most common\n",
        "most_common = counter.most_common(1)\n",
        "\n",
        "print(\"Most common is - Tuple: \", counter.most_common(1)) # ---------> Return tuples! the item followed by its frequency\n",
        "print(\"Most common is - Item\", most_common[0][0]) # ---------> Return tuples! the item followed by its frequency\n",
        "print(\"1st and 2nd\", counter.most_common(2)) "
      ],
      "execution_count": null,
      "outputs": [
        {
          "output_type": "stream",
          "name": "stdout",
          "text": [
            "Counter({4: 6, 5: 5, 6: 3, 2: 2, 1: 1, 3: 1})\n",
            "Most common is - Tuple:  [(4, 6)]\n",
            "Most common is - Item 4\n",
            "1st and 2nd [(4, 6), (5, 5)]\n"
          ]
        }
      ]
    },
    {
      "cell_type": "markdown",
      "metadata": {
        "id": "iG0xwrlHw8-X"
      },
      "source": [
        "### Formatting Strings"
      ]
    },
    {
      "cell_type": "code",
      "metadata": {
        "colab": {
          "base_uri": "https://localhost:8080/"
        },
        "id": "Vx47VikdxWoz",
        "outputId": "97bb34d9-2e6d-4693-c763-c02cd3c6aa2e"
      },
      "source": [
        "# 1. F-Strings\n",
        "# F-Strings allows you to add expressions/code/variable values in the middle of the string efficiently\n",
        "\n",
        "i = 10\n",
        "my_string = f\"The square number of {i} is {i*i}\"\n",
        "print(my_string)\n",
        "\n",
        "# 2. Joining Strings >> .join()\n",
        "\n",
        "my_list_of_strings = [\"Hello\", \"my\", \"friends\"]\n",
        "\n",
        "# BAD: Strings are immutable so you will need to create a new one each time and may be slow for large lists\n",
        "my_bad_string = \"\"\n",
        "for i in my_list_of_strings:\n",
        "  my_bad_string += i + \" \"\n",
        "\n",
        "print(my_bad_string)\n",
        "\n",
        "# GOOD: Much more concise and much more efficient :)\n",
        "my_good_string = \" \".join(my_list_of_strings)\n",
        "print(my_good_string)\n"
      ],
      "execution_count": null,
      "outputs": [
        {
          "output_type": "stream",
          "name": "stdout",
          "text": [
            "The square number of 10 is 100\n",
            "Hello my friends \n",
            "Hello my friends\n"
          ]
        }
      ]
    },
    {
      "cell_type": "markdown",
      "metadata": {
        "id": "ZHwGq3CQzRty"
      },
      "source": [
        "### Merging Dictionaries with **"
      ]
    },
    {
      "cell_type": "code",
      "metadata": {
        "colab": {
          "base_uri": "https://localhost:8080/"
        },
        "id": "jiIMc6ETzUrX",
        "outputId": "8d2ab483-e71d-4c32-b1b6-4b2095bc1caa"
      },
      "source": [
        "dict1 = {\"Name\": \"Anatoli\", \"Rank\": 1}\n",
        "dict2 = {\"Name\": \"Anatoli\", \"Age\": \"27\"}\n",
        "\n",
        "print({**dict1, **dict2})"
      ],
      "execution_count": null,
      "outputs": [
        {
          "output_type": "stream",
          "name": "stdout",
          "text": [
            "{'Name': 'Anatoli', 'Rank': 1, 'Age': '27'}\n"
          ]
        }
      ]
    },
    {
      "cell_type": "markdown",
      "metadata": {
        "id": "Q0kAHdwd2LhF"
      },
      "source": [
        "### Summing up conditions in a If Statement"
      ]
    },
    {
      "cell_type": "code",
      "metadata": {
        "colab": {
          "base_uri": "https://localhost:8080/"
        },
        "id": "OD0603Os2LC_",
        "outputId": "c1745ea5-b913-4660-f787-3048772e8b1f"
      },
      "source": [
        "# Multiple ANDs\n",
        "limit_1 = 20\n",
        "limit_2 = 200\n",
        "limit_3 = 700\n",
        "\n",
        "conditions = [limit_1 > 10, limit_2 > 100, limit_3 > 500] \n",
        "\n",
        "if all(conditions):\n",
        "  print(\"You won!!\")\n",
        "\n",
        "# ORs\n",
        "limit_1 = 5\n",
        "limit_2 = 50\n",
        "limit_3 = 700\n",
        "\n",
        "conditions = [limit_1 > 10, limit_2 > 100, limit_3 > 500] \n",
        "\n",
        "if any(conditions):\n",
        "  print(\"You won!!\")  "
      ],
      "execution_count": null,
      "outputs": [
        {
          "output_type": "stream",
          "name": "stdout",
          "text": [
            "You won!!\n",
            "You won!!\n"
          ]
        }
      ]
    },
    {
      "cell_type": "markdown",
      "metadata": {
        "id": "Z4pCZWli5Kzt"
      },
      "source": [
        "### Switching variables values\n"
      ]
    },
    {
      "cell_type": "code",
      "metadata": {
        "colab": {
          "base_uri": "https://localhost:8080/"
        },
        "id": "bxVgC5-A5LPQ",
        "outputId": "0656e641-68bc-487a-c7b8-f87afdd4f202"
      },
      "source": [
        "a = 1\n",
        "b = 2\n",
        "\n",
        "b, a = a, b\n",
        "\n",
        "print(\"new a\", a)\n",
        "print(\"new b\", b)"
      ],
      "execution_count": null,
      "outputs": [
        {
          "output_type": "stream",
          "name": "stdout",
          "text": [
            "new a 2\n",
            "new b 1\n"
          ]
        }
      ]
    },
    {
      "cell_type": "markdown",
      "metadata": {
        "id": "oq3C4wnV6hsH"
      },
      "source": [
        "### Removing duplicates and getting the maximum number part 2"
      ]
    },
    {
      "cell_type": "code",
      "metadata": {
        "colab": {
          "base_uri": "https://localhost:8080/"
        },
        "id": "mlXhzEAh6iAb",
        "outputId": "a6dbeb14-fea3-42c4-8a8f-303e29f37c31"
      },
      "source": [
        "my_list = [1,2,2,2,2,2,2,2,2,1]\n",
        "\n",
        "# Get the most repeated number\n",
        "print(max(set(my_list), key= my_list.count))\n",
        "\n",
        "# Remove duplicates easily\n",
        "print(set(my_list))"
      ],
      "execution_count": null,
      "outputs": [
        {
          "output_type": "stream",
          "name": "stdout",
          "text": [
            "2\n",
            "{1, 2}\n"
          ]
        }
      ]
    },
    {
      "cell_type": "markdown",
      "metadata": {
        "id": "sRE8v1Ee8euR"
      },
      "source": [
        "### Reversing a string easily"
      ]
    },
    {
      "cell_type": "code",
      "metadata": {
        "colab": {
          "base_uri": "https://localhost:8080/"
        },
        "id": "RkHNOWva8edh",
        "outputId": "72bcde43-7d65-4b09-ff30-6fefc622eaf1"
      },
      "source": [
        "my_string = \"join the navy\"\n",
        "print(my_string[::-1])"
      ],
      "execution_count": null,
      "outputs": [
        {
          "output_type": "stream",
          "name": "stdout",
          "text": [
            "yvan eht nioj\n"
          ]
        }
      ]
    },
    {
      "cell_type": "markdown",
      "metadata": {
        "id": "rNc88yCc-tf-"
      },
      "source": [
        "### Detecting palindromes"
      ]
    },
    {
      "cell_type": "code",
      "metadata": {
        "colab": {
          "base_uri": "https://localhost:8080/"
        },
        "id": "ceq1L9ea-tPD",
        "outputId": "1e1526ac-2b1a-47c4-de03-15eb52d34a01"
      },
      "source": [
        "test_yes = \"eye\"\n",
        "test_no = \"heye\"\n",
        "\n",
        "def isPalindrome(target):\n",
        "\n",
        "  return target.find(target[::-1]) == 0 \n",
        "\n",
        "print(isPalindrome(test_yes))\n",
        "print(isPalindrome(test_no))"
      ],
      "execution_count": null,
      "outputs": [
        {
          "output_type": "stream",
          "name": "stdout",
          "text": [
            "True\n",
            "False\n"
          ]
        }
      ]
    },
    {
      "cell_type": "markdown",
      "metadata": {
        "id": "YzOsoBjhAM-M"
      },
      "source": [
        "### Reversing Lists Easily"
      ]
    },
    {
      "cell_type": "code",
      "metadata": {
        "colab": {
          "base_uri": "https://localhost:8080/"
        },
        "id": "KJQZO2-TAMET",
        "outputId": "8d1aa65c-b428-44e6-f768-31405fe96f3c"
      },
      "source": [
        "check = [\"Hello\", \"My\", \"Friend\", \"Vodka!\"]\n",
        "check.reverse()\n",
        "print(\"Using reverse():\", check)\n",
        "\n",
        "check = [\"Hello\", \"My\", \"Friend\", \"Vodka!\"]\n",
        "print(\"Using slicing:\", check[::-1])"
      ],
      "execution_count": null,
      "outputs": [
        {
          "output_type": "stream",
          "name": "stdout",
          "text": [
            "Using reverse(): ['Vodka!', 'Friend', 'My', 'Hello']\n",
            "Using slicing: ['Vodka!', 'Friend', 'My', 'Hello']\n"
          ]
        }
      ]
    },
    {
      "cell_type": "markdown",
      "metadata": {
        "id": "1A5Tcj2_5n8w"
      },
      "source": [
        "### Generators\n",
        "\n",
        "Functions that returns an object that can be iterated over. Generates items inside the objects lazily. More memory efficient than normal loops for massive amount of data"
      ]
    },
    {
      "cell_type": "code",
      "metadata": {
        "colab": {
          "base_uri": "https://localhost:8080/"
        },
        "id": "MPkECiji5oe7",
        "outputId": "c2c3178c-3378-4a7b-d689-67ecb6f9dc24"
      },
      "source": [
        "# Generators >> Functios that returns an object that can be iterated over. Generates items inside the objects lazily\n",
        "# More memory efficient than normal loops\n",
        "# yield instead of return, you can have multiple yield values\n",
        "\n",
        "def mygenerator():\n",
        "  yield 1\n",
        "  yield 2\n",
        "  yield 3\n",
        "\n",
        "g = mygenerator()\n",
        "\n",
        "print(g)\n",
        "\n",
        "# Iterating over the generato object\n",
        "print(\"Using for loop to iterate over the generator\")\n",
        "for i in g:\n",
        "  print(i)\n",
        "\n",
        "# Use next() function to iterate individually \n",
        "g = mygenerator()\n",
        "\n",
        "print(\"Using next() function: \")\n",
        "print(next(g))\n",
        "print(next(g))\n",
        "print(next(g))\n",
        "# print(next(g)) --> Will raise a StopIteration failure because we have only 3 values in the yield! \n",
        "\n",
        "# We can sum everything\n",
        "g = mygenerator()\n",
        "print(\"Summing up all yields\")\n",
        "print(sum(g))"
      ],
      "execution_count": 9,
      "outputs": [
        {
          "output_type": "stream",
          "name": "stdout",
          "text": [
            "<generator object mygenerator at 0x7f7d151d2850>\n",
            "Using for loop to iterate over the generator\n",
            "1\n",
            "2\n",
            "3\n",
            "Using next() function: \n",
            "1\n",
            "2\n",
            "3\n",
            "Summing up all yields\n",
            "6\n"
          ]
        }
      ]
    },
    {
      "cell_type": "code",
      "metadata": {
        "colab": {
          "base_uri": "https://localhost:8080/"
        },
        "id": "z99cUlfv76X0",
        "outputId": "d907388d-9613-4fd9-cc5c-e5c706eed832"
      },
      "source": [
        "def countdown(number):\n",
        "  print(\"Starting countdown\")\n",
        "  while number > 0:\n",
        "    yield number\n",
        "    number -= 1\n",
        "\n",
        "cd = countdown(4)\n",
        "print(cd) # ---> Note that anything will run here since they are lazily evaluated\n",
        "\n",
        "print(next(cd)) # 4\n",
        "print(next(cd)) # 3\n",
        "print(next(cd)) # 2\n",
        "print(next(cd)) # 1 "
      ],
      "execution_count": 16,
      "outputs": [
        {
          "output_type": "stream",
          "name": "stdout",
          "text": [
            "<generator object countdown at 0x7f7d151c1350>\n",
            "Starting countdown\n",
            "4\n",
            "3\n",
            "2\n",
            "1\n"
          ]
        }
      ]
    },
    {
      "cell_type": "markdown",
      "metadata": {
        "id": "aCXcRvy0_P6M"
      },
      "source": [
        "### Example 1"
      ]
    },
    {
      "cell_type": "code",
      "metadata": {
        "colab": {
          "base_uri": "https://localhost:8080/"
        },
        "id": "8ppQi2GC9Al7",
        "outputId": "f15aa0b1-850d-4205-9953-c48c101a8ce3"
      },
      "source": [
        "import sys\n",
        "\n",
        "def firstn(number):\n",
        "  # Return a sequence from 0...number not using generators\n",
        "  # This will use lots of memoy since the nums is being generated physically as a list.\n",
        "  nums = []\n",
        "  num = 0\n",
        "  \n",
        "  # Deliberately we are not using list comprehension o range() for educational purposes\n",
        "  while num < number:\n",
        "    nums.append(num)\n",
        "    num += 1\n",
        "  \n",
        "  return nums\n",
        "\n",
        "\n",
        "def firstn_generator(number):\n",
        "  # Return a sequence from 0...number not using generators\n",
        "  num = 0\n",
        "  while num < number:\n",
        "    yield num # This will be lazily saved in the generator object using just one memory position\n",
        "    num += 1\n",
        "  \n",
        "# Not using generator\n",
        "print(sum(firstn(100000)))\n",
        "print(f\"Size {sys.getsizeof(firstn(100000))} in bytes\")\n",
        "\n",
        "# Using generator\n",
        "print(sum(firstn_generator(100000)))\n",
        "print(f\"Size {sys.getsizeof(firstn_generator(100000))} in bytes\")"
      ],
      "execution_count": 22,
      "outputs": [
        {
          "output_type": "stream",
          "name": "stdout",
          "text": [
            "4999950000\n",
            "Size 824472 in bytes\n",
            "4999950000\n",
            "Size 128 in bytes\n"
          ]
        }
      ]
    },
    {
      "cell_type": "markdown",
      "metadata": {
        "id": "EsQvK6tn_SrM"
      },
      "source": [
        "### Example 2\n"
      ]
    },
    {
      "cell_type": "code",
      "metadata": {
        "colab": {
          "base_uri": "https://localhost:8080/"
        },
        "id": "YdIh69ws_UXk",
        "outputId": "8788eed9-9a7c-467e-f2ae-826f6c6eab1e"
      },
      "source": [
        "def fib_generator(limit):\n",
        "\n",
        "  num_a, num_b = 0, 1\n",
        "\n",
        "  while num_a < limit:\n",
        "\n",
        "    yield num_a\n",
        "\n",
        "    num_a, num_b = num_b, num_a + num_b\n",
        "\n",
        "for i in fib_generator(30):\n",
        "  print(i)"
      ],
      "execution_count": 29,
      "outputs": [
        {
          "output_type": "stream",
          "name": "stdout",
          "text": [
            "0\n",
            "1\n",
            "1\n",
            "2\n",
            "3\n",
            "5\n",
            "8\n",
            "13\n",
            "21\n"
          ]
        }
      ]
    },
    {
      "cell_type": "markdown",
      "metadata": {
        "id": "fMYLpkBfA0kO"
      },
      "source": [
        "### Generators Expressions\n",
        "\n",
        "They are similar list comprehensions but you use () instead"
      ]
    },
    {
      "cell_type": "code",
      "metadata": {
        "colab": {
          "base_uri": "https://localhost:8080/"
        },
        "id": "o4D0SBwfA7g2",
        "outputId": "7ed178b8-ad35-48fe-901c-994243696e28"
      },
      "source": [
        "mygen = (i for i in range(100) if i % 2 == 0)\n",
        "\n",
        "#print(sum(mygen))\n",
        "\n",
        "for i in mygen:\n",
        "  print(i)"
      ],
      "execution_count": 37,
      "outputs": [
        {
          "output_type": "stream",
          "name": "stdout",
          "text": [
            "0\n",
            "2\n",
            "4\n",
            "6\n",
            "8\n",
            "10\n",
            "12\n",
            "14\n",
            "16\n",
            "18\n",
            "20\n",
            "22\n",
            "24\n",
            "26\n",
            "28\n",
            "30\n",
            "32\n",
            "34\n",
            "36\n",
            "38\n",
            "40\n",
            "42\n",
            "44\n",
            "46\n",
            "48\n",
            "50\n",
            "52\n",
            "54\n",
            "56\n",
            "58\n",
            "60\n",
            "62\n",
            "64\n",
            "66\n",
            "68\n",
            "70\n",
            "72\n",
            "74\n",
            "76\n",
            "78\n",
            "80\n",
            "82\n",
            "84\n",
            "86\n",
            "88\n",
            "90\n",
            "92\n",
            "94\n",
            "96\n",
            "98\n"
          ]
        }
      ]
    },
    {
      "cell_type": "code",
      "metadata": {
        "id": "ZfSpu1cCBp34"
      },
      "source": [
        ""
      ],
      "execution_count": null,
      "outputs": []
    }
  ]
}