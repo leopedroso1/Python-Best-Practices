{
  "nbformat": 4,
  "nbformat_minor": 0,
  "metadata": {
    "colab": {
      "name": "Python Tips - Improving your coding skills",
      "provenance": [],
      "collapsed_sections": [],
      "authorship_tag": "ABX9TyNiTwDD5aHHrT1EkcNFQWQz",
      "include_colab_link": true
    },
    "kernelspec": {
      "name": "python3",
      "display_name": "Python 3"
    },
    "language_info": {
      "name": "python"
    }
  },
  "cells": [
    {
      "cell_type": "markdown",
      "metadata": {
        "id": "view-in-github",
        "colab_type": "text"
      },
      "source": [
        "<a href=\"https://colab.research.google.com/github/leopedroso1/Python-Best-Practices/blob/main/Python_Tips_Improving_your_coding_skills.ipynb\" target=\"_parent\"><img src=\"https://colab.research.google.com/assets/colab-badge.svg\" alt=\"Open In Colab\"/></a>"
      ]
    },
    {
      "cell_type": "markdown",
      "metadata": {
        "id": "m2ntF0vRvp3_"
      },
      "source": [
        "### Saving up memory with Generators"
      ]
    },
    {
      "cell_type": "code",
      "metadata": {
        "colab": {
          "base_uri": "https://localhost:8080/"
        },
        "id": "R0vskcFcsWKk",
        "outputId": "8da962c7-ab10-4a1c-8577-f435edb42487"
      },
      "source": [
        "# Saving up memory\n",
        "import sys\n",
        "\n",
        "# 1. List with n amount of items\n",
        "my_list = [i for i in range(100000)]\n",
        "\n",
        "print(sum(my_list))\n",
        "print(sys.getsizeof(my_list), \"bytes\")\n",
        "\n",
        "\n",
        "# 2. Generators with n amount of items - Lazily evaluates and save the memory :)\n",
        "my_gen = (i for i in range(100000))\n",
        "\n",
        "print(sum(my_gen))\n",
        "print(sys.getsizeof(my_gen), \"bytes\")"
      ],
      "execution_count": 13,
      "outputs": [
        {
          "output_type": "stream",
          "name": "stdout",
          "text": [
            "4999950000\n",
            "824472 bytes\n",
            "4999950000\n",
            "128 bytes\n"
          ]
        }
      ]
    },
    {
      "cell_type": "markdown",
      "metadata": {
        "id": "FrWcRnExviT4"
      },
      "source": [
        "### Counter the number of unique items in a list with collections"
      ]
    },
    {
      "cell_type": "code",
      "metadata": {
        "colab": {
          "base_uri": "https://localhost:8080/"
        },
        "id": "PZReNlalvQ-A",
        "outputId": "6fc5b480-b195-41f9-be78-b0a8a7ddf922"
      },
      "source": [
        "from collections import Counter\n",
        "\n",
        "my_list = [1,2,2,3,4,4,4,4,4,4,5,5,5,5,5,6,6,6]\n",
        "\n",
        "counter = Counter(my_list)\n",
        "\n",
        "print(counter) # ---------> Return a counter object with a dictionary\n",
        "\n",
        "# Get the 1st and 2nd most common\n",
        "most_common = counter.most_common(1)\n",
        "\n",
        "print(\"Most common is - Tuple: \", counter.most_common(1)) # ---------> Return tuples! the item followed by its frequency\n",
        "print(\"Most common is - Item\", most_common[0][0]) # ---------> Return tuples! the item followed by its frequency\n",
        "print(\"1st and 2nd\", counter.most_common(2)) "
      ],
      "execution_count": 12,
      "outputs": [
        {
          "output_type": "stream",
          "name": "stdout",
          "text": [
            "Counter({4: 6, 5: 5, 6: 3, 2: 2, 1: 1, 3: 1})\n",
            "Most common is - Tuple:  [(4, 6)]\n",
            "Most common is - Item 4\n",
            "1st and 2nd [(4, 6), (5, 5)]\n"
          ]
        }
      ]
    },
    {
      "cell_type": "markdown",
      "metadata": {
        "id": "iG0xwrlHw8-X"
      },
      "source": [
        "### Formatting Strings"
      ]
    },
    {
      "cell_type": "code",
      "metadata": {
        "colab": {
          "base_uri": "https://localhost:8080/"
        },
        "id": "Vx47VikdxWoz",
        "outputId": "97bb34d9-2e6d-4693-c763-c02cd3c6aa2e"
      },
      "source": [
        "# 1. F-Strings\n",
        "# F-Strings allows you to add expressions/code/variable values in the middle of the string efficiently\n",
        "\n",
        "i = 10\n",
        "my_string = f\"The square number of {i} is {i*i}\"\n",
        "print(my_string)\n",
        "\n",
        "# 2. Joining Strings >> .join()\n",
        "\n",
        "my_list_of_strings = [\"Hello\", \"my\", \"friends\"]\n",
        "\n",
        "# BAD: Strings are immutable so you will need to create a new one each time and may be slow for large lists\n",
        "my_bad_string = \"\"\n",
        "for i in my_list_of_strings:\n",
        "  my_bad_string += i + \" \"\n",
        "\n",
        "print(my_bad_string)\n",
        "\n",
        "# GOOD: Much more concise and much more efficient :)\n",
        "my_good_string = \" \".join(my_list_of_strings)\n",
        "print(my_good_string)\n"
      ],
      "execution_count": 18,
      "outputs": [
        {
          "output_type": "stream",
          "name": "stdout",
          "text": [
            "The square number of 10 is 100\n",
            "Hello my friends \n",
            "Hello my friends\n"
          ]
        }
      ]
    },
    {
      "cell_type": "markdown",
      "metadata": {
        "id": "ZHwGq3CQzRty"
      },
      "source": [
        "### Merging Dictionaries with **"
      ]
    },
    {
      "cell_type": "code",
      "metadata": {
        "colab": {
          "base_uri": "https://localhost:8080/"
        },
        "id": "jiIMc6ETzUrX",
        "outputId": "8d2ab483-e71d-4c32-b1b6-4b2095bc1caa"
      },
      "source": [
        "dict1 = {\"Name\": \"Anatoli\", \"Rank\": 1}\n",
        "dict2 = {\"Name\": \"Anatoli\", \"Age\": \"27\"}\n",
        "\n",
        "print({**dict1, **dict2})"
      ],
      "execution_count": 21,
      "outputs": [
        {
          "output_type": "stream",
          "name": "stdout",
          "text": [
            "{'Name': 'Anatoli', 'Rank': 1, 'Age': '27'}\n"
          ]
        }
      ]
    },
    {
      "cell_type": "markdown",
      "metadata": {
        "id": "Q0kAHdwd2LhF"
      },
      "source": [
        "### Summing up conditions in a If Statement"
      ]
    },
    {
      "cell_type": "code",
      "metadata": {
        "colab": {
          "base_uri": "https://localhost:8080/"
        },
        "id": "OD0603Os2LC_",
        "outputId": "c1745ea5-b913-4660-f787-3048772e8b1f"
      },
      "source": [
        "# Multiple ANDs\n",
        "limit_1 = 20\n",
        "limit_2 = 200\n",
        "limit_3 = 700\n",
        "\n",
        "conditions = [limit_1 > 10, limit_2 > 100, limit_3 > 500] \n",
        "\n",
        "if all(conditions):\n",
        "  print(\"You won!!\")\n",
        "\n",
        "# ORs\n",
        "limit_1 = 5\n",
        "limit_2 = 50\n",
        "limit_3 = 700\n",
        "\n",
        "conditions = [limit_1 > 10, limit_2 > 100, limit_3 > 500] \n",
        "\n",
        "if any(conditions):\n",
        "  print(\"You won!!\")  "
      ],
      "execution_count": 25,
      "outputs": [
        {
          "output_type": "stream",
          "name": "stdout",
          "text": [
            "You won!!\n",
            "You won!!\n"
          ]
        }
      ]
    },
    {
      "cell_type": "markdown",
      "metadata": {
        "id": "Z4pCZWli5Kzt"
      },
      "source": [
        "### Switching variables values\n"
      ]
    },
    {
      "cell_type": "code",
      "metadata": {
        "colab": {
          "base_uri": "https://localhost:8080/"
        },
        "id": "bxVgC5-A5LPQ",
        "outputId": "0656e641-68bc-487a-c7b8-f87afdd4f202"
      },
      "source": [
        "a = 1\n",
        "b = 2\n",
        "\n",
        "b, a = a, b\n",
        "\n",
        "print(\"new a\", a)\n",
        "print(\"new b\", b)"
      ],
      "execution_count": 26,
      "outputs": [
        {
          "output_type": "stream",
          "name": "stdout",
          "text": [
            "new a 2\n",
            "new b 1\n"
          ]
        }
      ]
    },
    {
      "cell_type": "markdown",
      "metadata": {
        "id": "oq3C4wnV6hsH"
      },
      "source": [
        "### Removing duplicates and getting the maximum number part 2"
      ]
    },
    {
      "cell_type": "code",
      "metadata": {
        "colab": {
          "base_uri": "https://localhost:8080/"
        },
        "id": "mlXhzEAh6iAb",
        "outputId": "a6dbeb14-fea3-42c4-8a8f-303e29f37c31"
      },
      "source": [
        "my_list = [1,2,2,2,2,2,2,2,2,1]\n",
        "\n",
        "# Get the most repeated number\n",
        "print(max(set(my_list), key= my_list.count))\n",
        "\n",
        "# Remove duplicates easily\n",
        "print(set(my_list))"
      ],
      "execution_count": 27,
      "outputs": [
        {
          "output_type": "stream",
          "name": "stdout",
          "text": [
            "2\n",
            "{1, 2}\n"
          ]
        }
      ]
    },
    {
      "cell_type": "markdown",
      "metadata": {
        "id": "sRE8v1Ee8euR"
      },
      "source": [
        "### Reversing a string easily"
      ]
    },
    {
      "cell_type": "code",
      "metadata": {
        "colab": {
          "base_uri": "https://localhost:8080/"
        },
        "id": "RkHNOWva8edh",
        "outputId": "72bcde43-7d65-4b09-ff30-6fefc622eaf1"
      },
      "source": [
        "my_string = \"join the navy\"\n",
        "print(my_string[::-1])"
      ],
      "execution_count": 31,
      "outputs": [
        {
          "output_type": "stream",
          "name": "stdout",
          "text": [
            "yvan eht nioj\n"
          ]
        }
      ]
    },
    {
      "cell_type": "markdown",
      "metadata": {
        "id": "rNc88yCc-tf-"
      },
      "source": [
        "### Detecting palindromes"
      ]
    },
    {
      "cell_type": "code",
      "metadata": {
        "colab": {
          "base_uri": "https://localhost:8080/"
        },
        "id": "ceq1L9ea-tPD",
        "outputId": "1e1526ac-2b1a-47c4-de03-15eb52d34a01"
      },
      "source": [
        "test_yes = \"eye\"\n",
        "test_no = \"heye\"\n",
        "\n",
        "def isPalindrome(target):\n",
        "\n",
        "  return target.find(target[::-1]) == 0 \n",
        "\n",
        "print(isPalindrome(test_yes))\n",
        "print(isPalindrome(test_no))"
      ],
      "execution_count": 34,
      "outputs": [
        {
          "output_type": "stream",
          "name": "stdout",
          "text": [
            "True\n",
            "False\n"
          ]
        }
      ]
    },
    {
      "cell_type": "markdown",
      "metadata": {
        "id": "YzOsoBjhAM-M"
      },
      "source": [
        "### Reversing Lists Easily"
      ]
    },
    {
      "cell_type": "code",
      "metadata": {
        "colab": {
          "base_uri": "https://localhost:8080/"
        },
        "id": "KJQZO2-TAMET",
        "outputId": "8d1aa65c-b428-44e6-f768-31405fe96f3c"
      },
      "source": [
        "check = [\"Hello\", \"My\", \"Friend\", \"Vodka!\"]\n",
        "check.reverse()\n",
        "print(\"Using reverse():\", check)\n",
        "\n",
        "check = [\"Hello\", \"My\", \"Friend\", \"Vodka!\"]\n",
        "print(\"Using slicing:\", check[::-1])"
      ],
      "execution_count": 41,
      "outputs": [
        {
          "output_type": "stream",
          "name": "stdout",
          "text": [
            "Using reverse(): ['Vodka!', 'Friend', 'My', 'Hello']\n",
            "Using slicing: ['Vodka!', 'Friend', 'My', 'Hello']\n"
          ]
        }
      ]
    }
  ]
}